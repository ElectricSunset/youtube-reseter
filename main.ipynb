{
 "cells": [
  {
   "cell_type": "code",
   "execution_count": 1,
   "metadata": {},
   "outputs": [],
   "source": [
    "from seleniumwire.undetected_chromedriver.v2 import Chrome, ChromeOptions\n",
    "from selenium.webdriver.support.ui import WebDriverWait\n",
    "from selenium.webdriver.common.by import By\n",
    "from selenium.webdriver.support import expected_conditions as ec\n",
    "import time"
   ]
  },
  {
   "cell_type": "code",
   "execution_count": 3,
   "metadata": {},
   "outputs": [],
   "source": [
    "options = {}\n",
    "chrome_options = ChromeOptions()\n",
    "chrome_options.add_argument('--user-data-dir=hash')\n",
    "chrome_options.add_argument(\"--disable-gpu\")\n",
    "# chrome_options.add_argument(\"--incognito\")\n",
    "chrome_options.add_argument(\"--disable-dev-shm-usage\")\n",
    "# chrome_options.add_argument(\"--headless\")\n",
    "browser = Chrome(seleniumwire_options=options, options=chrome_options)\n",
    "wait = WebDriverWait(browser, 10)\n",
    "\n",
    "browser.get('https://gmail.com')\n",
    "# wait.until(ec.presence_of_element_located((By.XPATH, '//*[@id=\"identifierId\"]'))).send_keys('EMAIL')\n",
    "# wait.until(ec.presence_of_element_located((By.XPATH, '//*[@id=\"identifierNext\"]/div/button'))).click()\n",
    "# time.sleep(5)\n",
    "# wait.until(ec.presence_of_element_located((By.XPATH, '//*[@id=\"password\"]/div[1]/div/div[1]/input'))).send_keys('PASSWORD')\n",
    "# wait.until(ec.presence_of_element_located((By.XPATH, '//*[@id=\"passwordNext\"]/div/button'))).click()\n",
    "\n",
    "# time.sleep(50)\n",
    "# browser.get('https://www.youtube.com')\n",
    "browser.close()"
   ]
  }
 ],
 "metadata": {
  "kernelspec": {
   "display_name": "Python 3",
   "language": "python",
   "name": "python3"
  },
  "language_info": {
   "codemirror_mode": {
    "name": "ipython",
    "version": 3
   },
   "file_extension": ".py",
   "mimetype": "text/x-python",
   "name": "python",
   "nbconvert_exporter": "python",
   "pygments_lexer": "ipython3",
   "version": "3.9.13"
  },
  "orig_nbformat": 4
 },
 "nbformat": 4,
 "nbformat_minor": 2
}
